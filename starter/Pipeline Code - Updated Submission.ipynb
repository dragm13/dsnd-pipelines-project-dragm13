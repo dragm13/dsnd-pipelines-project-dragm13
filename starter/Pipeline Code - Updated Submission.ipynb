{
 "cells": [
  {
   "cell_type": "code",
   "execution_count": null,
   "id": "af167fa9",
   "metadata": {},
   "outputs": [],
   "source": [
    "# ============================================\n",
    "# 👗 StyleSense Product Recommendation Project\n",
    "# ============================================\n",
    "\n",
    "# 1. Import Required Libraries\n",
    "import pandas as pd\n",
    "import numpy as np\n",
    "import matplotlib.pyplot as plt\n",
    "import seaborn as sns\n",
    "from sklearn.model_selection import train_test_split, GridSearchCV\n",
    "from sklearn.pipeline import Pipeline\n",
    "from sklearn.compose import ColumnTransformer\n",
    "from sklearn.impute import SimpleImputer\n",
    "from sklearn.preprocessing import OneHotEncoder, StandardScaler\n",
    "from sklearn.feature_extraction.text import TfidfVectorizer\n",
    "from sklearn.ensemble import RandomForestClassifier\n",
    "from sklearn.metrics import classification_report, confusion_matrix\n",
    "import joblib"
   ]
  },
  {
   "cell_type": "code",
   "execution_count": null,
   "id": "7ac98723",
   "metadata": {},
   "outputs": [],
   "source": [
    "# 2. Load Dataset\n",
    "df = pd.read_csv('data/reviews.csv')\n",
    "df.info()\n",
    "df.head()"
   ]
  },
  {
   "cell_type": "code",
   "execution_count": null,
   "id": "d1d0c377",
   "metadata": {},
   "outputs": [],
   "source": [
    "# 3. Feature Engineering: Add Review Length\n",
    "df['Review Length'] = df['Review Text'].apply(lambda x: len(str(x).split()))"
   ]
  },
  {
   "cell_type": "code",
   "execution_count": null,
   "id": "561d370a",
   "metadata": {},
   "outputs": [],
   "source": [
    "# 4. Preparing Features (X) and Target (y)\n",
    "X = df.drop('Recommended IND', axis=1)\n",
    "y = df['Recommended IND'].copy()"
   ]
  },
  {
   "cell_type": "code",
   "execution_count": null,
   "id": "80f7ef2a",
   "metadata": {},
   "outputs": [],
   "source": [
    "# 5. Train-Test Split\n",
    "X_train, X_test, y_train, y_test = train_test_split(\n",
    "    X, y, test_size=0.1, shuffle=True, random_state=27\n",
    ")"
   ]
  },
  {
   "cell_type": "code",
   "execution_count": null,
   "id": "311efb33",
   "metadata": {},
   "outputs": [],
   "source": [
    "# 6. Data Exploration\n",
    "\n",
    "# Target variable distribution\n",
    "sns.countplot(x=y)\n",
    "plt.title('Distribution of Recommended IND (Target)')\n",
    "plt.show()\n",
    "\n",
    "# Age distribution\n",
    "sns.histplot(df['Age'], bins=30, kde=True)\n",
    "plt.title('Age Distribution')\n",
    "plt.xlabel('Age')\n",
    "plt.ylabel('Count')\n",
    "plt.show()\n",
    "\n",
    "# Review length distribution\n",
    "sns.histplot(df['Review Length'], bins=50, kde=True)\n",
    "plt.title('Distribution of Review Length')\n",
    "plt.xlabel('Word Count')\n",
    "plt.show()\n",
    "\n",
    "# Top categories\n",
    "for col in ['Division Name', 'Department Name', 'Class Name']:\n",
    "    sns.countplot(y=df[col], order=df[col].value_counts().index)\n",
    "    plt.title(f'Distribution of {col}')\n",
    "    plt.show()"
   ]
  },
  {
   "cell_type": "code",
   "execution_count": null,
   "id": "311870dd",
   "metadata": {},
   "outputs": [],
   "source": [
    "# 7. Building the Pipeline\n",
    "\n",
    "# Feature categories\n",
    "numerical_features = ['Age', 'Positive Feedback Count', 'Review Length']\n",
    "categorical_features = ['Division Name', 'Department Name', 'Class Name']\n",
    "text_features = 'Review Text'\n",
    "\n",
    "# Preprocessing for numeric features\n",
    "numeric_transformer = Pipeline(steps=[\n",
    "    ('imputer', SimpleImputer(strategy='median')),\n",
    "    ('scaler', StandardScaler())\n",
    "])\n",
    "\n",
    "# Preprocessing for categorical features\n",
    "categorical_transformer = Pipeline(steps=[\n",
    "    ('imputer', SimpleImputer(strategy='most_frequent')),\n",
    "    ('encoder', OneHotEncoder(handle_unknown='ignore'))\n",
    "])\n",
    "\n",
    "# Preprocessing for text features using TF-IDF\n",
    "text_transformer = Pipeline(steps=[\n",
    "    ('tfidf', TfidfVectorizer(stop_words='english', max_features=5000))\n",
    "])\n",
    "\n",
    "# Combine all preprocessors\n",
    "preprocessor = ColumnTransformer(\n",
    "    transformers=[\n",
    "        ('num', numeric_transformer, numerical_features),\n",
    "        ('cat', categorical_transformer, categorical_features),\n",
    "        ('text', text_transformer, text_features)\n",
    "    ]\n",
    ")\n",
    "\n",
    "# Full pipeline with classifier\n",
    "clf = Pipeline(steps=[\n",
    "    ('preprocessor', preprocessor),\n",
    "    ('classifier', RandomForestClassifier(n_estimators=100, random_state=42))\n",
    "])\n"
   ]
  },
  {
   "cell_type": "code",
   "execution_count": null,
   "id": "246cd8bd",
   "metadata": {},
   "outputs": [],
   "source": [
    "# 8. Training Pipeline\n",
    "clf.fit(X_train, y_train)\n"
   ]
  },
  {
   "cell_type": "code",
   "execution_count": null,
   "id": "3fcaaefa",
   "metadata": {},
   "outputs": [],
   "source": [
    "# 9. Evaluation on Test Data\n",
    "y_pred = clf.predict(X_test)\n",
    "print(\"Classification Report:\\n\", classification_report(y_test, y_pred))\n",
    "print(\"Confusion Matrix:\\n\", confusion_matrix(y_test, y_pred))\n",
    "\n",
    "# Plot Confusion Matrix\n",
    "sns.heatmap(confusion_matrix(y_test, y_pred), annot=True, fmt='d', cmap='Blues')\n",
    "plt.title(\"Confusion Matrix - Initial Model\")\n",
    "plt.xlabel(\"Predicted\")\n",
    "plt.ylabel(\"Actual\")\n",
    "plt.show()"
   ]
  },
  {
   "cell_type": "code",
   "execution_count": null,
   "id": "82e00fbd",
   "metadata": {},
   "outputs": [],
   "source": [
    "# 10. Fine-Tuning Pipeline with Grid Search\n",
    "param_grid = {\n",
    "    'classifier__n_estimators': [100, 200],\n",
    "    'classifier__max_depth': [None, 10, 20],\n",
    "    'classifier__min_samples_split': [2, 5]\n",
    "}\n",
    "\n",
    "# Grid search\n",
    "grid_search = GridSearchCV(clf, param_grid, cv=3, scoring='f1', verbose=2, n_jobs=-1)\n",
    "grid_search.fit(X_train, y_train)\n",
    "\n",
    "# Best parameters and model\n",
    "print(\"Best Parameters:\", grid_search.best_params_)\n",
    "best_model = grid_search.best_estimator_"
   ]
  },
  {
   "cell_type": "code",
   "execution_count": null,
   "id": "2b425ccb",
   "metadata": {},
   "outputs": [],
   "source": [
    "# 11. Final Evaluation\n",
    "y_pred_best = best_model.predict(X_test)\n",
    "print(\"Fine-Tuned Model Report:\\n\", classification_report(y_test, y_pred_best))\n",
    "\n",
    "# Plot Confusion Matrix for best model\n",
    "sns.heatmap(confusion_matrix(y_test, y_pred_best), annot=True, fmt='d', cmap='Greens')\n",
    "plt.title(\"Confusion Matrix - Fine-Tuned Model\")\n",
    "plt.xlabel(\"Predicted\")\n",
    "plt.ylabel(\"Actual\")\n",
    "plt.show()"
   ]
  },
  {
   "cell_type": "code",
   "execution_count": null,
   "id": "771b5a18",
   "metadata": {},
   "outputs": [],
   "source": []
  },
  {
   "cell_type": "code",
   "execution_count": null,
   "id": "6c3baa1f",
   "metadata": {},
   "outputs": [],
   "source": []
  },
  {
   "cell_type": "code",
   "execution_count": null,
   "id": "6db177cc",
   "metadata": {},
   "outputs": [],
   "source": []
  },
  {
   "cell_type": "code",
   "execution_count": null,
   "id": "604aadc8",
   "metadata": {},
   "outputs": [],
   "source": []
  }
 ],
 "metadata": {
  "kernelspec": {
   "display_name": "Python 3 (ipykernel)",
   "language": "python",
   "name": "python3"
  },
  "language_info": {
   "codemirror_mode": {
    "name": "ipython",
    "version": 3
   },
   "file_extension": ".py",
   "mimetype": "text/x-python",
   "name": "python",
   "nbconvert_exporter": "python",
   "pygments_lexer": "ipython3",
   "version": "3.10.13"
  }
 },
 "nbformat": 4,
 "nbformat_minor": 5
}
